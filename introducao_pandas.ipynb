{
  "cells": [
    {
      "cell_type": "markdown",
      "metadata": {
        "id": "view-in-github",
        "colab_type": "text"
      },
      "source": [
        "<a href=\"https://colab.research.google.com/github/GiovannaBerato/Fun--es---Python/blob/main/introducao_pandas.ipynb\" target=\"_parent\"><img src=\"https://colab.research.google.com/assets/colab-badge.svg\" alt=\"Open In Colab\"/></a>"
      ]
    },
    {
      "cell_type": "code",
      "execution_count": null,
      "metadata": {
        "id": "7zI-WqRN_d0z"
      },
      "outputs": [],
      "source": [
        "import pandas as pd"
      ]
    },
    {
      "cell_type": "code",
      "execution_count": null,
      "metadata": {
        "id": "Gtb-1mNhAA5T"
      },
      "outputs": [],
      "source": [
        "frutas = pd.DataFrame([{\n",
        "    'Maça': '30',\n",
        "    'Banana': '20'\n",
        "}])"
      ]
    },
    {
      "cell_type": "code",
      "execution_count": null,
      "metadata": {
        "id": "cLgp0eSGAVOy"
      },
      "outputs": [],
      "source": [
        "vendas_frutas = pd.DataFrame([\n",
        "{\n",
        "    'Maça': '1000',\n",
        "    'Banana': '700'\n",
        "},\n",
        "{\n",
        "    'Maça': '5000',\n",
        "    'Banana': '2000'\n",
        "},\n",
        "], index=['Vendas 2022','Vendas 2023'])"
      ]
    },
    {
      "cell_type": "code",
      "execution_count": null,
      "metadata": {
        "colab": {
          "base_uri": "https://localhost:8080/",
          "height": 112
        },
        "id": "XroXeK2jBJWy",
        "outputId": "13755805-766b-47e8-beb6-808c5e2e2440"
      },
      "outputs": [
        {
          "data": {
            "application/vnd.google.colaboratory.intrinsic+json": {
              "summary": "{\n  \"name\": \"vendas_frutas\",\n  \"rows\": 2,\n  \"fields\": [\n    {\n      \"column\": \"Ma\\u00e7a\",\n      \"properties\": {\n        \"dtype\": \"string\",\n        \"num_unique_values\": 2,\n        \"samples\": [\n          \"5000\",\n          \"1000\"\n        ],\n        \"semantic_type\": \"\",\n        \"description\": \"\"\n      }\n    },\n    {\n      \"column\": \"Banana\",\n      \"properties\": {\n        \"dtype\": \"string\",\n        \"num_unique_values\": 2,\n        \"samples\": [\n          \"2000\",\n          \"700\"\n        ],\n        \"semantic_type\": \"\",\n        \"description\": \"\"\n      }\n    }\n  ]\n}",
              "type": "dataframe",
              "variable_name": "vendas_frutas"
            },
            "text/html": [
              "\n",
              "  <div id=\"df-ad8d0a42-edad-4af8-84de-787ae0cce382\" class=\"colab-df-container\">\n",
              "    <div>\n",
              "<style scoped>\n",
              "    .dataframe tbody tr th:only-of-type {\n",
              "        vertical-align: middle;\n",
              "    }\n",
              "\n",
              "    .dataframe tbody tr th {\n",
              "        vertical-align: top;\n",
              "    }\n",
              "\n",
              "    .dataframe thead th {\n",
              "        text-align: right;\n",
              "    }\n",
              "</style>\n",
              "<table border=\"1\" class=\"dataframe\">\n",
              "  <thead>\n",
              "    <tr style=\"text-align: right;\">\n",
              "      <th></th>\n",
              "      <th>Maça</th>\n",
              "      <th>Banana</th>\n",
              "    </tr>\n",
              "  </thead>\n",
              "  <tbody>\n",
              "    <tr>\n",
              "      <th>Vendas 2022</th>\n",
              "      <td>1000</td>\n",
              "      <td>700</td>\n",
              "    </tr>\n",
              "    <tr>\n",
              "      <th>Vendas 2023</th>\n",
              "      <td>5000</td>\n",
              "      <td>2000</td>\n",
              "    </tr>\n",
              "  </tbody>\n",
              "</table>\n",
              "</div>\n",
              "    <div class=\"colab-df-buttons\">\n",
              "\n",
              "  <div class=\"colab-df-container\">\n",
              "    <button class=\"colab-df-convert\" onclick=\"convertToInteractive('df-ad8d0a42-edad-4af8-84de-787ae0cce382')\"\n",
              "            title=\"Convert this dataframe to an interactive table.\"\n",
              "            style=\"display:none;\">\n",
              "\n",
              "  <svg xmlns=\"http://www.w3.org/2000/svg\" height=\"24px\" viewBox=\"0 -960 960 960\">\n",
              "    <path d=\"M120-120v-720h720v720H120Zm60-500h600v-160H180v160Zm220 220h160v-160H400v160Zm0 220h160v-160H400v160ZM180-400h160v-160H180v160Zm440 0h160v-160H620v160ZM180-180h160v-160H180v160Zm440 0h160v-160H620v160Z\"/>\n",
              "  </svg>\n",
              "    </button>\n",
              "\n",
              "  <style>\n",
              "    .colab-df-container {\n",
              "      display:flex;\n",
              "      gap: 12px;\n",
              "    }\n",
              "\n",
              "    .colab-df-convert {\n",
              "      background-color: #E8F0FE;\n",
              "      border: none;\n",
              "      border-radius: 50%;\n",
              "      cursor: pointer;\n",
              "      display: none;\n",
              "      fill: #1967D2;\n",
              "      height: 32px;\n",
              "      padding: 0 0 0 0;\n",
              "      width: 32px;\n",
              "    }\n",
              "\n",
              "    .colab-df-convert:hover {\n",
              "      background-color: #E2EBFA;\n",
              "      box-shadow: 0px 1px 2px rgba(60, 64, 67, 0.3), 0px 1px 3px 1px rgba(60, 64, 67, 0.15);\n",
              "      fill: #174EA6;\n",
              "    }\n",
              "\n",
              "    .colab-df-buttons div {\n",
              "      margin-bottom: 4px;\n",
              "    }\n",
              "\n",
              "    [theme=dark] .colab-df-convert {\n",
              "      background-color: #3B4455;\n",
              "      fill: #D2E3FC;\n",
              "    }\n",
              "\n",
              "    [theme=dark] .colab-df-convert:hover {\n",
              "      background-color: #434B5C;\n",
              "      box-shadow: 0px 1px 3px 1px rgba(0, 0, 0, 0.15);\n",
              "      filter: drop-shadow(0px 1px 2px rgba(0, 0, 0, 0.3));\n",
              "      fill: #FFFFFF;\n",
              "    }\n",
              "  </style>\n",
              "\n",
              "    <script>\n",
              "      const buttonEl =\n",
              "        document.querySelector('#df-ad8d0a42-edad-4af8-84de-787ae0cce382 button.colab-df-convert');\n",
              "      buttonEl.style.display =\n",
              "        google.colab.kernel.accessAllowed ? 'block' : 'none';\n",
              "\n",
              "      async function convertToInteractive(key) {\n",
              "        const element = document.querySelector('#df-ad8d0a42-edad-4af8-84de-787ae0cce382');\n",
              "        const dataTable =\n",
              "          await google.colab.kernel.invokeFunction('convertToInteractive',\n",
              "                                                    [key], {});\n",
              "        if (!dataTable) return;\n",
              "\n",
              "        const docLinkHtml = 'Like what you see? Visit the ' +\n",
              "          '<a target=\"_blank\" href=https://colab.research.google.com/notebooks/data_table.ipynb>data table notebook</a>'\n",
              "          + ' to learn more about interactive tables.';\n",
              "        element.innerHTML = '';\n",
              "        dataTable['output_type'] = 'display_data';\n",
              "        await google.colab.output.renderOutput(dataTable, element);\n",
              "        const docLink = document.createElement('div');\n",
              "        docLink.innerHTML = docLinkHtml;\n",
              "        element.appendChild(docLink);\n",
              "      }\n",
              "    </script>\n",
              "  </div>\n",
              "\n",
              "\n",
              "<div id=\"df-5ac2adbe-07b0-4a32-8bab-a94dcc59cf42\">\n",
              "  <button class=\"colab-df-quickchart\" onclick=\"quickchart('df-5ac2adbe-07b0-4a32-8bab-a94dcc59cf42')\"\n",
              "            title=\"Suggest charts\"\n",
              "            style=\"display:none;\">\n",
              "\n",
              "<svg xmlns=\"http://www.w3.org/2000/svg\" height=\"24px\"viewBox=\"0 0 24 24\"\n",
              "     width=\"24px\">\n",
              "    <g>\n",
              "        <path d=\"M19 3H5c-1.1 0-2 .9-2 2v14c0 1.1.9 2 2 2h14c1.1 0 2-.9 2-2V5c0-1.1-.9-2-2-2zM9 17H7v-7h2v7zm4 0h-2V7h2v10zm4 0h-2v-4h2v4z\"/>\n",
              "    </g>\n",
              "</svg>\n",
              "  </button>\n",
              "\n",
              "<style>\n",
              "  .colab-df-quickchart {\n",
              "      --bg-color: #E8F0FE;\n",
              "      --fill-color: #1967D2;\n",
              "      --hover-bg-color: #E2EBFA;\n",
              "      --hover-fill-color: #174EA6;\n",
              "      --disabled-fill-color: #AAA;\n",
              "      --disabled-bg-color: #DDD;\n",
              "  }\n",
              "\n",
              "  [theme=dark] .colab-df-quickchart {\n",
              "      --bg-color: #3B4455;\n",
              "      --fill-color: #D2E3FC;\n",
              "      --hover-bg-color: #434B5C;\n",
              "      --hover-fill-color: #FFFFFF;\n",
              "      --disabled-bg-color: #3B4455;\n",
              "      --disabled-fill-color: #666;\n",
              "  }\n",
              "\n",
              "  .colab-df-quickchart {\n",
              "    background-color: var(--bg-color);\n",
              "    border: none;\n",
              "    border-radius: 50%;\n",
              "    cursor: pointer;\n",
              "    display: none;\n",
              "    fill: var(--fill-color);\n",
              "    height: 32px;\n",
              "    padding: 0;\n",
              "    width: 32px;\n",
              "  }\n",
              "\n",
              "  .colab-df-quickchart:hover {\n",
              "    background-color: var(--hover-bg-color);\n",
              "    box-shadow: 0 1px 2px rgba(60, 64, 67, 0.3), 0 1px 3px 1px rgba(60, 64, 67, 0.15);\n",
              "    fill: var(--button-hover-fill-color);\n",
              "  }\n",
              "\n",
              "  .colab-df-quickchart-complete:disabled,\n",
              "  .colab-df-quickchart-complete:disabled:hover {\n",
              "    background-color: var(--disabled-bg-color);\n",
              "    fill: var(--disabled-fill-color);\n",
              "    box-shadow: none;\n",
              "  }\n",
              "\n",
              "  .colab-df-spinner {\n",
              "    border: 2px solid var(--fill-color);\n",
              "    border-color: transparent;\n",
              "    border-bottom-color: var(--fill-color);\n",
              "    animation:\n",
              "      spin 1s steps(1) infinite;\n",
              "  }\n",
              "\n",
              "  @keyframes spin {\n",
              "    0% {\n",
              "      border-color: transparent;\n",
              "      border-bottom-color: var(--fill-color);\n",
              "      border-left-color: var(--fill-color);\n",
              "    }\n",
              "    20% {\n",
              "      border-color: transparent;\n",
              "      border-left-color: var(--fill-color);\n",
              "      border-top-color: var(--fill-color);\n",
              "    }\n",
              "    30% {\n",
              "      border-color: transparent;\n",
              "      border-left-color: var(--fill-color);\n",
              "      border-top-color: var(--fill-color);\n",
              "      border-right-color: var(--fill-color);\n",
              "    }\n",
              "    40% {\n",
              "      border-color: transparent;\n",
              "      border-right-color: var(--fill-color);\n",
              "      border-top-color: var(--fill-color);\n",
              "    }\n",
              "    60% {\n",
              "      border-color: transparent;\n",
              "      border-right-color: var(--fill-color);\n",
              "    }\n",
              "    80% {\n",
              "      border-color: transparent;\n",
              "      border-right-color: var(--fill-color);\n",
              "      border-bottom-color: var(--fill-color);\n",
              "    }\n",
              "    90% {\n",
              "      border-color: transparent;\n",
              "      border-bottom-color: var(--fill-color);\n",
              "    }\n",
              "  }\n",
              "</style>\n",
              "\n",
              "  <script>\n",
              "    async function quickchart(key) {\n",
              "      const quickchartButtonEl =\n",
              "        document.querySelector('#' + key + ' button');\n",
              "      quickchartButtonEl.disabled = true;  // To prevent multiple clicks.\n",
              "      quickchartButtonEl.classList.add('colab-df-spinner');\n",
              "      try {\n",
              "        const charts = await google.colab.kernel.invokeFunction(\n",
              "            'suggestCharts', [key], {});\n",
              "      } catch (error) {\n",
              "        console.error('Error during call to suggestCharts:', error);\n",
              "      }\n",
              "      quickchartButtonEl.classList.remove('colab-df-spinner');\n",
              "      quickchartButtonEl.classList.add('colab-df-quickchart-complete');\n",
              "    }\n",
              "    (() => {\n",
              "      let quickchartButtonEl =\n",
              "        document.querySelector('#df-5ac2adbe-07b0-4a32-8bab-a94dcc59cf42 button');\n",
              "      quickchartButtonEl.style.display =\n",
              "        google.colab.kernel.accessAllowed ? 'block' : 'none';\n",
              "    })();\n",
              "  </script>\n",
              "</div>\n",
              "\n",
              "    </div>\n",
              "  </div>\n"
            ],
            "text/plain": [
              "             Maça Banana\n",
              "Vendas 2022  1000    700\n",
              "Vendas 2023  5000   2000"
            ]
          },
          "execution_count": 5,
          "metadata": {},
          "output_type": "execute_result"
        }
      ],
      "source": [
        "vendas_frutas.head()"
      ]
    },
    {
      "cell_type": "code",
      "execution_count": null,
      "metadata": {
        "id": "xxs9oWORDTTT"
      },
      "outputs": [],
      "source": [
        "f1_drivers = pd.read_csv('/Driver_Details.csv')"
      ]
    },
    {
      "cell_type": "code",
      "execution_count": null,
      "metadata": {
        "colab": {
          "base_uri": "https://localhost:8080/"
        },
        "id": "eC-82y28D7w9",
        "outputId": "4821bbc5-6980-4dd1-fe11-a283529b22fe"
      },
      "outputs": [
        {
          "name": "stdout",
          "output_type": "stream",
          "text": [
            "driverId        int64\n",
            "driverRef      object\n",
            "number         object\n",
            "code           object\n",
            "forename       object\n",
            "surname        object\n",
            "dob            object\n",
            "nationality    object\n",
            "url            object\n",
            "dtype: object\n"
          ]
        }
      ],
      "source": [
        "print(f1_drivers.dtypes)"
      ]
    },
    {
      "cell_type": "code",
      "execution_count": null,
      "metadata": {
        "colab": {
          "base_uri": "https://localhost:8080/"
        },
        "id": "sY_dGSfhEbTa",
        "outputId": "3bce65bb-386e-441f-b662-e3b955d14fb0"
      },
      "outputs": [
        {
          "name": "stdout",
          "output_type": "stream",
          "text": [
            "0         Lewis\n",
            "1          Nick\n",
            "2          Nico\n",
            "3      Fernando\n",
            "4        Heikki\n",
            "         ...   \n",
            "854        Nyck\n",
            "855       Oscar\n",
            "856       Logan\n",
            "857        Liam\n",
            "858      Oliver\n",
            "Name: forename, Length: 859, dtype: object\n"
          ]
        }
      ],
      "source": [
        "print(f1_drivers['forename'])"
      ]
    },
    {
      "cell_type": "code",
      "execution_count": null,
      "metadata": {
        "colab": {
          "base_uri": "https://localhost:8080/"
        },
        "id": "oIxnx7KqEnQR",
        "outputId": "e3164ee1-76bf-46ad-8a38-9d1d6c7bbf7e"
      },
      "outputs": [
        {
          "output_type": "stream",
          "name": "stdout",
          "text": [
            "99.0\n"
          ]
        }
      ],
      "source": [
        "f1_drivers['number'] = pd.to_numeric(f1_drivers['number'], errors='coerce')\n",
        "print(f1_drivers['number'].max())"
      ]
    },
    {
      "cell_type": "code",
      "source": [
        "print(f1_drivers[f1_drivers['nationality'] == 'German'])"
      ],
      "metadata": {
        "colab": {
          "base_uri": "https://localhost:8080/"
        },
        "id": "zPrbplZSGnhJ",
        "outputId": "4f0c2494-8e45-4149-8fd7-12d788a6c097"
      },
      "execution_count": null,
      "outputs": [
        {
          "output_type": "stream",
          "name": "stdout",
          "text": [
            "     driverId           driverRef  number code      forename     surname  \\\n",
            "1           2            heidfeld     NaN  HEI          Nick    Heidfeld   \n",
            "2           3             rosberg     6.0  ROS          Nico     Rosberg   \n",
            "9          10               glock     NaN  GLO          Timo       Glock   \n",
            "15         16               sutil    99.0  SUT        Adrian       Sutil   \n",
            "19         20              vettel     5.0  VET     Sebastian      Vettel   \n",
            "22         23     ralf_schumacher     NaN  SCH          Ralf  Schumacher   \n",
            "27         28   markus_winkelhock     NaN  WIN        Markus  Winkelhock   \n",
            "29         30  michael_schumacher     NaN  MSC       Michael  Schumacher   \n",
            "48         49            frentzen     NaN   \\N  Heinz-Harald    Frentzen   \n",
            "142       143             bartels     NaN   \\N       Michael     Bartels   \n",
            "145       146           schneider     NaN   \\N         Bernd   Schneider   \n",
            "156       157              danner     NaN   \\N     Christian      Danner   \n",
            "160       161             weidler     NaN   \\N        Volker     Weidler   \n",
            "163       164  joachim_winkelhock     NaN   \\N       Joachim  Winkelhock   \n",
            "180       181  manfred_winkelhock     NaN   \\N       Manfred  Winkelhock   \n",
            "184       185              bellof     NaN   \\N        Stefan      Bellof   \n",
            "199       200                mass     NaN   \\N        Jochen        Mass   \n",
            "232       233               stuck     NaN   \\N  Hans-Joachim       Stuck   \n",
            "242       243           stommelen     NaN   \\N          Rolf   Stommelen   \n",
            "267       268               heyer     NaN   \\N          Hans       Heyer   \n",
            "364       365               hahne     NaN   \\N        Hubert       Hahne   \n",
            "378       379              ahrens     NaN   \\N          Kurt      Ahrens   \n",
            "422       423              mitter     NaN   \\N       Gerhard      Mitter   \n",
            "430       431               barth     NaN   \\N         Edgar       Barth   \n",
            "441       442              kuhnke     NaN   \\N          Kurt      Kuhnke   \n",
            "444       445            seiffert     NaN   \\N       Günther    Seiffert   \n",
            "455       455              seidel     NaN   \\N      Wolfgang      Seidel   \n",
            "476       476               trips     NaN   \\N      Wolfgang   von Trips   \n",
            "478       478            herrmann     NaN   \\N          Hans    Herrmann   \n",
            "648       648               kling     NaN   \\N          Karl       Kling   \n",
            "691       691                lang     NaN   \\N       Hermann        Lang   \n",
            "692       692            helfrich     NaN   \\N          Theo    Helfrich   \n",
            "711       711               karch     NaN   \\N        Oswald       Karch   \n",
            "712       712               heeks     NaN   \\N         Willi       Heeks   \n",
            "714       714              adolff     NaN   \\N          Kurt      Adolff   \n",
            "715       715              bechem     NaN   \\N       Günther      Bechem   \n",
            "716       716               bauer     NaN   \\N         Erwin       Bauer   \n",
            "717       717          hans_stuck     NaN   \\N          Hans   von Stuck   \n",
            "718       718                loof     NaN   \\N         Ernst        Loof   \n",
            "724       724               ulmen     NaN   \\N          Toni       Ulmen   \n",
            "750       750              brudes     NaN   \\N         Adolf      Brudes   \n",
            "751       751               riess     NaN   \\N         Fritz       Riess   \n",
            "752       752          niedermayr     NaN   \\N        Helmut  Niedermayr   \n",
            "753       753               klenk     NaN   \\N          Hans       Klenk   \n",
            "756       756             pietsch     NaN   \\N          Paul     Pietsch   \n",
            "757       757              peters     NaN   \\N         Josef      Peters   \n",
            "807       807          hulkenberg    27.0  HUL          Nico  Hülkenberg   \n",
            "826       827            lotterer    45.0  LOT         André    Lotterer   \n",
            "835       836            wehrlein    94.0  WEH        Pascal    Wehrlein   \n",
            "852       854     mick_schumacher    47.0  MSC          Mick  Schumacher   \n",
            "\n",
            "            dob nationality                                                url  \n",
            "1    1977-05-10      German         http://en.wikipedia.org/wiki/Nick_Heidfeld  \n",
            "2    1985-06-27      German          http://en.wikipedia.org/wiki/Nico_Rosberg  \n",
            "9    1982-03-18      German            http://en.wikipedia.org/wiki/Timo_Glock  \n",
            "15   1983-01-11      German          http://en.wikipedia.org/wiki/Adrian_Sutil  \n",
            "19   1987-07-03      German      http://en.wikipedia.org/wiki/Sebastian_Vettel  \n",
            "22   1975-06-30      German       http://en.wikipedia.org/wiki/Ralf_Schumacher  \n",
            "27   1980-06-13      German     http://en.wikipedia.org/wiki/Markus_Winkelhock  \n",
            "29   1969-01-03      German    http://en.wikipedia.org/wiki/Michael_Schumacher  \n",
            "48   1967-05-18      German  http://en.wikipedia.org/wiki/Heinz-Harald_Fren...  \n",
            "142  1968-03-08      German       http://en.wikipedia.org/wiki/Michael_Bartels  \n",
            "145  1964-07-20      German  http://en.wikipedia.org/wiki/Bernd_Schneider_(...  \n",
            "156  1958-04-04      German      http://en.wikipedia.org/wiki/Christian_Danner  \n",
            "160  1962-03-18      German        http://en.wikipedia.org/wiki/Volker_Weidler  \n",
            "163  1960-10-24      German    http://en.wikipedia.org/wiki/Joachim_Winkelhock  \n",
            "180  1951-10-06      German    http://en.wikipedia.org/wiki/Manfred_Winkelhock  \n",
            "184  1957-11-20      German         http://en.wikipedia.org/wiki/Stefan_Bellof  \n",
            "199  1946-09-30      German           http://en.wikipedia.org/wiki/Jochen_Mass  \n",
            "232  1951-01-01      German    http://en.wikipedia.org/wiki/Hans_Joachim_Stuck  \n",
            "242  1943-07-11      German        http://en.wikipedia.org/wiki/Rolf_Stommelen  \n",
            "267  1943-03-16      German            http://en.wikipedia.org/wiki/Hans_Heyer  \n",
            "364  1935-03-28      German          http://en.wikipedia.org/wiki/Hubert_Hahne  \n",
            "378  1940-04-19      German      http://en.wikipedia.org/wiki/Kurt_Ahrens,_Jr.  \n",
            "422  1935-08-30      German        http://en.wikipedia.org/wiki/Gerhard_Mitter  \n",
            "430  1917-01-26      German           http://en.wikipedia.org/wiki/Edgar_Barth  \n",
            "441  1910-04-30      German           http://en.wikipedia.org/wiki/Kurt_Kuhnke  \n",
            "444  1937-10-18      German  http://en.wikipedia.org/wiki/G%C3%BCnther_Seif...  \n",
            "455  1926-07-04      German       http://en.wikipedia.org/wiki/Wolfgang_Seidel  \n",
            "476  1928-05-04      German  http://en.wikipedia.org/wiki/Wolfgang_Graf_Ber...  \n",
            "478  1928-02-23      German         http://en.wikipedia.org/wiki/Hans_Herrmann  \n",
            "648  1910-09-16      German            http://en.wikipedia.org/wiki/Karl_Kling  \n",
            "691  1909-04-06      German          http://en.wikipedia.org/wiki/Hermann_Lang  \n",
            "692  1913-05-13      German         http://en.wikipedia.org/wiki/Theo_Helfrich  \n",
            "711  1917-03-06      German          http://en.wikipedia.org/wiki/Oswald_Karch  \n",
            "712  1922-02-13      German           http://en.wikipedia.org/wiki/Willi_Heeks  \n",
            "714  1921-11-05      German           http://en.wikipedia.org/wiki/Kurt_Adolff  \n",
            "715  1921-12-21      German   http://en.wikipedia.org/wiki/G%C3%BCnther_Bechem  \n",
            "716  1912-07-17      German           http://en.wikipedia.org/wiki/Erwin_Bauer  \n",
            "717  1900-12-27      German        http://en.wikipedia.org/wiki/Hans_Von_Stuck  \n",
            "718  1907-07-04      German            http://en.wikipedia.org/wiki/Ernst_Loof  \n",
            "724  1906-01-25      German            http://en.wikipedia.org/wiki/Toni_Ulmen  \n",
            "750  1899-10-15      German          http://en.wikipedia.org/wiki/Adolf_Brudes  \n",
            "751  1922-07-11      German           http://en.wikipedia.org/wiki/Fritz_Riess  \n",
            "752  1915-11-29      German     http://en.wikipedia.org/wiki/Helmut_Niedermayr  \n",
            "753  1919-10-28      German            http://en.wikipedia.org/wiki/Hans_Klenk  \n",
            "756  1911-06-20      German          http://en.wikipedia.org/wiki/Paul_Pietsch  \n",
            "757  1914-09-16      German  http://en.wikipedia.org/wiki/Josef_Peters_(dri...  \n",
            "807  1987-08-19      German  http://en.wikipedia.org/wiki/Nico_H%C3%BClkenberg  \n",
            "826  1981-11-19      German   http://en.wikipedia.org/wiki/Andr%C3%A9_Lotterer  \n",
            "835  1994-10-18      German       http://en.wikipedia.org/wiki/Pascal_Wehrlein  \n",
            "852  1999-03-22      German       http://en.wikipedia.org/wiki/Mick_Schumacher  \n"
          ]
        }
      ]
    }
  ],
  "metadata": {
    "colab": {
      "provenance": [],
      "include_colab_link": true
    },
    "kernelspec": {
      "display_name": "Python 3",
      "name": "python3"
    },
    "language_info": {
      "name": "python"
    }
  },
  "nbformat": 4,
  "nbformat_minor": 0
}